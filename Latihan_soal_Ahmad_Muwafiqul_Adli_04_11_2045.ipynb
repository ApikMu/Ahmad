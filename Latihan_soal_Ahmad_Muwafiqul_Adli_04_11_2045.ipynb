{
  "nbformat": 4,
  "nbformat_minor": 0,
  "metadata": {
    "colab": {
      "provenance": [],
      "authorship_tag": "ABX9TyOp6rcxi4pi98sONai59/Ge",
      "include_colab_link": true
    },
    "kernelspec": {
      "name": "python3",
      "display_name": "Python 3"
    },
    "language_info": {
      "name": "python"
    }
  },
  "cells": [
    {
      "cell_type": "markdown",
      "metadata": {
        "id": "view-in-github",
        "colab_type": "text"
      },
      "source": [
        "<a href=\"https://colab.research.google.com/github/ApikMu/Ahmad/blob/main/Latihan_soal_Ahmad_Muwafiqul_Adli_04_11_2045.ipynb\" target=\"_parent\"><img src=\"https://colab.research.google.com/assets/colab-badge.svg\" alt=\"Open In Colab\"/></a>"
      ]
    },
    {
      "cell_type": "markdown",
      "source": [
        "Soal 1"
      ],
      "metadata": {
        "id": "TiXPjoKvQ5WU"
      }
    },
    {
      "cell_type": "markdown",
      "source": [
        "kelas pertandingan seorang atlit pertandingan bela diri ditentukan berdasarkan berat badan\n",
        "45kg<= berat badan <= 50kg : kelas A\n",
        "50kg < berat badan <= 55kg :kelas B\n",
        "55kg < berat badan <= 60kg : kelas c\n",
        "60kg < berat badan <= 65kg : kelas D\n",
        "65kg < berat badan <= 70kg : kelas E\n",
        "berat badan > 70kg : kelas F\n",
        "buatlah sebua program yang menerima berat badan seorang atlit (bilangan bukat) dan menuliskan kelas pertandingan atlit yang bersangkutan, Jika badan atlit < 45 kg tuliskan \"Tidak memenuhi kualifikasi\".\n"
      ],
      "metadata": {
        "id": "sPycnQNxQ7zE"
      }
    },
    {
      "cell_type": "code",
      "execution_count": 19,
      "metadata": {
        "id": "chYkBcWVOXPR",
        "colab": {
          "base_uri": "https://localhost:8080/"
        },
        "outputId": "7dd9da7e-74f2-48ff-c773-cc07be43eea0"
      },
      "outputs": [
        {
          "output_type": "stream",
          "name": "stdout",
          "text": [
            "masukkan berat badan atlit:58\n",
            "Kelas C\n"
          ]
        }
      ],
      "source": [
        "berat_badan = int(input(\"masukkan berat badan atlit:\"))\n",
        "if berat_badan < 45:\n",
        " print(\"Tidak memenuhi kualifikasi\")\n",
        "elif berat_badan <= 50:\n",
        "  print(\"Kelas A\")\n",
        "elif berat_badan <= 55:\n",
        "  print(\"Kelas B\")\n",
        "elif berat_badan <= 60:\n",
        "  print(\"Kelas C\")\n",
        "elif berat_badan <= 65:\n",
        "  print(\"Kelas D\")\n",
        "elif berat_badan <= 70:\n",
        "  print(\"Kelas E\")\n",
        "else :\n",
        "  print(\"Kelas F\")"
      ]
    },
    {
      "cell_type": "markdown",
      "source": [
        "**Soal 2**\n"
      ],
      "metadata": {
        "id": "xII7T4_pVBKq"
      }
    },
    {
      "cell_type": "markdown",
      "source": [
        "ANGKA 3DIGIT ITU SENDIRI. ANGKA AMRSTRONG"
      ],
      "metadata": {
        "id": "KldYDipDb5w6"
      }
    },
    {
      "cell_type": "code",
      "source": [
        "# Input bilangan 3 digit\n",
        "angka = int(input(\"Masukkan bilangan 3 digit: \"))\n",
        "\n",
        "# Memisahkan setiap digit\n",
        "ratusan = angka // 100\n",
        "puluhan = (angka % 100) // 10\n",
        "satuan = angka % 10\n",
        "\n",
        "# Menghitung jumlah pangkat 3 dari setiap digit\n",
        "hasil = (ratusan ** 3) + (puluhan ** 3) + (satuan ** 3)\n",
        "\n",
        "# Mengecek apakah bilangan Armstrong\n",
        "if angka == hasil:\n",
        "    print(f\"{angka} adalah bilangan Armstrong\")\n",
        "    print(f\"Karena {ratusan}^3 + {puluhan}^3 + {satuan}^3 = {hasil}\")\n",
        "else:\n",
        "    print(f\"{angka} bukan bilangan Armstrong\")\n",
        "    print(f\"Karena {ratusan}^3 + {puluhan}^3 + {satuan}^3 = {hasil}\")"
      ],
      "metadata": {
        "colab": {
          "base_uri": "https://localhost:8080/"
        },
        "id": "T8HSKCqCUOHn",
        "outputId": "43155512-7e4d-489a-c35d-9fa69858d49a"
      },
      "execution_count": null,
      "outputs": [
        {
          "output_type": "stream",
          "name": "stdout",
          "text": [
            "Masukkan bilangan 3 digit: 371\n",
            "371 adalah bilangan Armstrong\n",
            "Karena 3^3 + 7^3 + 1^3 = 371\n"
          ]
        }
      ]
    },
    {
      "cell_type": "markdown",
      "source": [
        "**Soal 3**"
      ],
      "metadata": {
        "id": "xu7S0gCjV_du"
      }
    },
    {
      "cell_type": "markdown",
      "source": [
        "diketahui sebuah bola jari2 r. Volume bola adalah Vbola = 4/3phi r3. Buatlah program yang menerima masukkan jari-jari bola dan menampilkan volume bola konstanta phi, gunakan 3,1416."
      ],
      "metadata": {
        "id": "vtd-OVlAWDx7"
      }
    },
    {
      "cell_type": "code",
      "source": [
        "# Mendefinisikan konstanta phi\n",
        "phi = 3.1416\n",
        "\n",
        "# Fungsi untuk menghitung volume bola\n",
        "def volume_bola(jari_jari):\n",
        "    return (4/3) * phi * (jari_jari ** 3)\n",
        "\n",
        "# Menerima input dari pengguna\n",
        "jari_jari_input = input(\"Masukkan jari-jari bola (r): \")\n",
        "\n",
        "# Memeriksa apakah input bisa diubah menjadi float\n",
        "if jari_jari_input.replace('.', '', 1).isdigit() or (jari_jari_input.startswith('-') and jari_jari_input[1:].replace('.', '', 1).isdigit()):\n",
        "    jari_jari = float(jari_jari_input)\n",
        "\n",
        "    if jari_jari < 0:\n",
        "        print(\"Jari-jari tidak boleh negatif.\")\n",
        "    else:\n",
        "        # Menghitung volume bola\n",
        "        volume = volume_bola(jari_jari)\n",
        "        print(f\"Volume bola dengan jari-jari {jari_jari} adalah: {volume:.4f}\")\n",
        "else:\n",
        "    print(\"Input tidak valid. Silakan masukkan angka yang benar.\")"
      ],
      "metadata": {
        "colab": {
          "base_uri": "https://localhost:8080/"
        },
        "id": "cFQN-PAeU2RR",
        "outputId": "5017ea56-9710-4211-cef3-f8ae45704b83"
      },
      "execution_count": null,
      "outputs": [
        {
          "output_type": "stream",
          "name": "stdout",
          "text": [
            "Masukkan jari-jari bola (r): 3\n",
            "Volume bola dengan jari-jari 3.0 adalah: 113.0976\n"
          ]
        }
      ]
    },
    {
      "cell_type": "markdown",
      "source": [
        "**SOAL 4**"
      ],
      "metadata": {
        "id": "n67SDc15Zsnp"
      }
    },
    {
      "cell_type": "code",
      "source": [
        "jumlah_siswa = 0\n",
        "total_tinggi = 0\n",
        "tinggi_badan = int(input(\"Masukkan tinggi badan siswa: \"))\n",
        "\n",
        "if 100 <= tinggi_badan <= 150:\n",
        "  jumlah_siswa += 1\n",
        "  total_tinggi += tinggi_badan\n",
        "else:\n",
        " print(\"Tinggi badan tidak valid. Masukkan nilai antara 100-200 cm\")\n",
        "if jumlah_siswa > 0:\n",
        "    rata_rata = total_tinggi / jumlah_siswa\n",
        "    print(\"Rata-rata tinggi badan siswa:\", rata_rata, \"cm\")\n",
        "else:\n",
        "    print(\"Tidak ada data siswa yang valid\")"
      ],
      "metadata": {
        "id": "I59BHeBzW_VN",
        "colab": {
          "base_uri": "https://localhost:8080/"
        },
        "outputId": "718822f8-f653-43a3-c6ac-559a82584953"
      },
      "execution_count": 18,
      "outputs": [
        {
          "output_type": "stream",
          "name": "stdout",
          "text": [
            "Masukkan tinggi badan siswa: 120\n",
            "Rata-rata tinggi badan siswa: 120.0 cm\n"
          ]
        }
      ]
    },
    {
      "cell_type": "markdown",
      "source": [
        "**SOAL 5**"
      ],
      "metadata": {
        "id": "fgu9fZXxZ5W6"
      }
    },
    {
      "cell_type": "code",
      "source": [
        "n = int(input(\"Masukkan jumlah mahasiswa: \"))\n",
        "\n",
        "data_mahasiswa = []\n",
        "\n",
        "for i in range(n):\n",
        "    nama = input(\"Masukkan nama mahasiswa: \")\n",
        "    praktikum = int(input(\"Masukkan nilai praktikum: \"))\n",
        "    uts = int(input(\"Masukkan nilai uts: \"))\n",
        "    uas = int(input(\"Masukkan nilai uas: \"))\n",
        "\n",
        "    nilai_akhir = 0.2 * praktikum + 0.4 * uts + 0.4 * uas\n",
        "\n",
        "    if nilai_akhir >= 85:\n",
        "        indeks = \"A\"\n",
        "    elif nilai_akhir >= 75:\n",
        "        indeks = \"AB\"\n",
        "    elif nilai_akhir >= 70:\n",
        "        indeks = \"B\"\n",
        "    elif nilai_akhir >= 60:\n",
        "        indeks = \"BC\"\n",
        "    elif nilai_akhir >= 50:\n",
        "        indeks = \"C\"\n",
        "    elif nilai_akhir >= 40:\n",
        "        indeks = \"D\"\n",
        "    else:\n",
        "        indeks = \"E\"\n",
        "\n",
        "    data_mahasiswa.append([nama, praktikum, uts, uas, nilai_akhir, indeks])\n",
        "\n",
        "print(\"----------------------------------------------------\")\n",
        "print(\"Nama | Praktikum | UTS | UAS | Akhir | Indeks\")\n",
        "print(\"----------------------------------------------------\")\n",
        "80\n",
        "for mahasiswa in data_mahasiswa:\n",
        "    print(f\"{mahasiswa[0]} | {mahasiswa[1]} | {mahasiswa[2]} | {mahasiswa[3]} | {mahasiswa[4]} | {mahasiswa[5]}\")"
      ],
      "metadata": {
        "id": "ikLYIs_-Z0-I",
        "colab": {
          "base_uri": "https://localhost:8080/"
        },
        "outputId": "cc1f94e0-3715-4bc0-daee-c6588c1558ce"
      },
      "execution_count": 17,
      "outputs": [
        {
          "output_type": "stream",
          "name": "stdout",
          "text": [
            "Masukkan jumlah mahasiswa: 2\n",
            "Masukkan nama mahasiswa: udin\n",
            "Masukkan nilai praktikum: 50\n",
            "Masukkan nilai uts: 50\n",
            "Masukkan nilai uas: 50\n",
            "Masukkan nama mahasiswa: asep\n",
            "Masukkan nilai praktikum: 90\n",
            "Masukkan nilai uts: 70\n",
            "Masukkan nilai uas: 80\n",
            "----------------------------------------------------\n",
            "Nama | Praktikum | UTS | UAS | Akhir | Indeks\n",
            "----------------------------------------------------\n",
            "udin | 50 | 50 | 50 | 50.0 | C\n",
            "asep | 90 | 70 | 80 | 78.0 | AB\n"
          ]
        }
      ]
    }
  ]
}