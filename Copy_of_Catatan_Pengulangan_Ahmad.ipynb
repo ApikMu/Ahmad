{
  "nbformat": 4,
  "nbformat_minor": 0,
  "metadata": {
    "colab": {
      "provenance": [],
      "include_colab_link": true
    },
    "kernelspec": {
      "name": "python3",
      "display_name": "Python 3"
    },
    "language_info": {
      "name": "python"
    }
  },
  "cells": [
    {
      "cell_type": "markdown",
      "metadata": {
        "id": "view-in-github",
        "colab_type": "text"
      },
      "source": [
        "<a href=\"https://colab.research.google.com/github/ApikMu/Ahmad/blob/main/Copy_of_Catatan_Pengulangan_Ahmad.ipynb\" target=\"_parent\"><img src=\"https://colab.research.google.com/assets/colab-badge.svg\" alt=\"Open In Colab\"/></a>"
      ]
    },
    {
      "cell_type": "markdown",
      "source": [
        "#**🖥️👩🏻‍💻PRAKTIKUM PEMROGRAMAN LANJUT🔥**\n",
        "##**Pertemuan (2) PENGULANGAN (LOOP) - Senin, 21 Oktober 2024**\n",
        "\n",
        "👤 Nama:Ahmad Muwafiqul 'Adli / NRP: 2C2230006 / Kelas: III/A Sains Data\n",
        "\n",
        "💬Deskripsi Pembahasan Materi Pengulangan:\n",
        "\n",
        "1.1.  Pengulangan (LOOP) 🔂\n",
        "- While Loop 🐋\n",
        "\n",
        "- For Loop\n",
        "\n",
        "1.2. Pengulangan Bersarang ( NESTED LOOP) 🔂🐦‍\n",
        "\n",
        "\n"
      ],
      "metadata": {
        "id": "_bN6_LxQCJZT"
      }
    },
    {
      "cell_type": "markdown",
      "source": [
        "#🤸🏻‍♀️ EKSPLORASI PRIBADI DI KELAS ✨"
      ],
      "metadata": {
        "id": "N0U2Qjks8P9F"
      }
    },
    {
      "cell_type": "code",
      "execution_count": null,
      "metadata": {
        "id": "itmMcxv88OIm",
        "colab": {
          "base_uri": "https://localhost:8080/"
        },
        "outputId": "ef48c622-8e30-4b38-d71c-b6d3da6dc493"
      },
      "outputs": [
        {
          "output_type": "stream",
          "name": "stdout",
          "text": [
            "[10, 2, 3]\n"
          ]
        }
      ],
      "source": [
        "my_list = [1, 2, 3]\n",
        "my_list[0] = 10 # list dapat diubah\n",
        "print(my_list) # output: [10, 2, 3]"
      ]
    },
    {
      "cell_type": "code",
      "source": [
        "my_list = [1, 2, 3]\n",
        "my_list[2]= 10 #list dapat diubah\n",
        "print(my_list) #output: [10, 2, 3]\n",
        "\n",
        "#PENGENALAN TUPLE Tuple adalah immutable, artinya setelah tuple dibuat, elemen-elemennya tidak bisa diubah, ditambah, atau dihapus.\n",
        "\n",
        "\n",
        "\n",
        "[1, 2, 10]\n",
        "\n",
        "my_tuple=(1, 2, 3)\n",
        "my_tuple[2]= 10 #akan menghasilkan error"
      ],
      "metadata": {
        "colab": {
          "base_uri": "https://localhost:8080/",
          "height": 193
        },
        "id": "_eg_HCKAWm4F",
        "outputId": "7b3ab5e0-e866-44a6-dac2-6794200f996a"
      },
      "execution_count": 2,
      "outputs": [
        {
          "output_type": "stream",
          "name": "stdout",
          "text": [
            "[1, 2, 10]\n"
          ]
        },
        {
          "output_type": "error",
          "ename": "TypeError",
          "evalue": "'tuple' object does not support item assignment",
          "traceback": [
            "\u001b[0;31m---------------------------------------------------------------------------\u001b[0m",
            "\u001b[0;31mTypeError\u001b[0m                                 Traceback (most recent call last)",
            "\u001b[0;32m<ipython-input-2-aa033f4e5a30>\u001b[0m in \u001b[0;36m<cell line: 12>\u001b[0;34m()\u001b[0m\n\u001b[1;32m     10\u001b[0m \u001b[0;34m\u001b[0m\u001b[0m\n\u001b[1;32m     11\u001b[0m \u001b[0mmy_tuple\u001b[0m\u001b[0;34m=\u001b[0m\u001b[0;34m(\u001b[0m\u001b[0;36m1\u001b[0m\u001b[0;34m,\u001b[0m \u001b[0;36m2\u001b[0m\u001b[0;34m,\u001b[0m \u001b[0;36m3\u001b[0m\u001b[0;34m)\u001b[0m\u001b[0;34m\u001b[0m\u001b[0;34m\u001b[0m\u001b[0m\n\u001b[0;32m---> 12\u001b[0;31m \u001b[0mmy_tuple\u001b[0m\u001b[0;34m[\u001b[0m\u001b[0;36m2\u001b[0m\u001b[0;34m]\u001b[0m\u001b[0;34m=\u001b[0m \u001b[0;36m10\u001b[0m \u001b[0;31m#akan menghasilkan error\u001b[0m\u001b[0;34m\u001b[0m\u001b[0;34m\u001b[0m\u001b[0m\n\u001b[0m",
            "\u001b[0;31mTypeError\u001b[0m: 'tuple' object does not support item assignment"
          ]
        }
      ]
    },
    {
      "cell_type": "code",
      "source": [
        "var_list = [1,2,3,4,5,6,7,8,9,10]\n",
        "for i in var_list:\n",
        "  print(i)"
      ],
      "metadata": {
        "colab": {
          "base_uri": "https://localhost:8080/"
        },
        "id": "gUbGpRkbMbID",
        "outputId": "dca2cd0d-7c75-473a-da4d-a348b1cff175"
      },
      "execution_count": null,
      "outputs": [
        {
          "output_type": "stream",
          "name": "stdout",
          "text": [
            "1\n",
            "2\n",
            "3\n",
            "4\n",
            "5\n",
            "6\n",
            "7\n",
            "8\n",
            "9\n",
            "10\n"
          ]
        }
      ]
    },
    {
      "cell_type": "code",
      "source": [
        "hurf = \"SAINS DATA IKOOPIN UNIVERSITY\"\n",
        "for i in hurf:\n",
        "  print(i)"
      ],
      "metadata": {
        "colab": {
          "base_uri": "https://localhost:8080/"
        },
        "id": "Kh0YQvI-NnPG",
        "outputId": "f06d66ee-ac1f-4cfa-b026-95a1366aa671"
      },
      "execution_count": null,
      "outputs": [
        {
          "output_type": "stream",
          "name": "stdout",
          "text": [
            "S\n",
            "A\n",
            "I\n",
            "N\n",
            "S\n",
            " \n",
            "D\n",
            "A\n",
            "T\n",
            "A\n",
            " \n",
            "I\n",
            "K\n",
            "O\n",
            "O\n",
            "P\n",
            "I\n",
            "N\n",
            " \n",
            "U\n",
            "N\n",
            "I\n",
            "V\n",
            "E\n",
            "R\n",
            "S\n",
            "I\n",
            "T\n",
            "Y\n"
          ]
        }
      ]
    },
    {
      "cell_type": "code",
      "source": [
        "for i in range (10):\n",
        "  print(i)"
      ],
      "metadata": {
        "colab": {
          "base_uri": "https://localhost:8080/"
        },
        "id": "pUQPbRIZW2ob",
        "outputId": "84d75b5d-2995-4213-abde-8f48a0f37a1f"
      },
      "execution_count": 3,
      "outputs": [
        {
          "output_type": "stream",
          "name": "stdout",
          "text": [
            "0\n",
            "1\n",
            "2\n",
            "3\n",
            "4\n",
            "5\n",
            "6\n",
            "7\n",
            "8\n",
            "9\n"
          ]
        }
      ]
    },
    {
      "cell_type": "code",
      "source": [
        "for i in range(1,10,2):\n",
        "  print(i)"
      ],
      "metadata": {
        "colab": {
          "base_uri": "https://localhost:8080/"
        },
        "id": "_DVDUiXkO0NT",
        "outputId": "b4fbfc5f-1111-4c3b-837e-28d7ffdf63e5"
      },
      "execution_count": null,
      "outputs": [
        {
          "output_type": "stream",
          "name": "stdout",
          "text": [
            "1\n",
            "3\n",
            "5\n",
            "7\n",
            "9\n"
          ]
        }
      ]
    },
    {
      "cell_type": "code",
      "source": [
        "for i in range(100): #sama hal nya (0, 10 ,1)\n",
        "  print(\"apeakk kece\")"
      ],
      "metadata": {
        "colab": {
          "base_uri": "https://localhost:8080/"
        },
        "id": "XK2lkLJPPh6W",
        "outputId": "23cb1cd5-315d-4df3-94b1-b288441138e6"
      },
      "execution_count": 4,
      "outputs": [
        {
          "output_type": "stream",
          "name": "stdout",
          "text": [
            "apeakk kece\n",
            "apeakk kece\n",
            "apeakk kece\n",
            "apeakk kece\n",
            "apeakk kece\n",
            "apeakk kece\n",
            "apeakk kece\n",
            "apeakk kece\n",
            "apeakk kece\n",
            "apeakk kece\n",
            "apeakk kece\n",
            "apeakk kece\n",
            "apeakk kece\n",
            "apeakk kece\n",
            "apeakk kece\n",
            "apeakk kece\n",
            "apeakk kece\n",
            "apeakk kece\n",
            "apeakk kece\n",
            "apeakk kece\n",
            "apeakk kece\n",
            "apeakk kece\n",
            "apeakk kece\n",
            "apeakk kece\n",
            "apeakk kece\n",
            "apeakk kece\n",
            "apeakk kece\n",
            "apeakk kece\n",
            "apeakk kece\n",
            "apeakk kece\n",
            "apeakk kece\n",
            "apeakk kece\n",
            "apeakk kece\n",
            "apeakk kece\n",
            "apeakk kece\n",
            "apeakk kece\n",
            "apeakk kece\n",
            "apeakk kece\n",
            "apeakk kece\n",
            "apeakk kece\n",
            "apeakk kece\n",
            "apeakk kece\n",
            "apeakk kece\n",
            "apeakk kece\n",
            "apeakk kece\n",
            "apeakk kece\n",
            "apeakk kece\n",
            "apeakk kece\n",
            "apeakk kece\n",
            "apeakk kece\n",
            "apeakk kece\n",
            "apeakk kece\n",
            "apeakk kece\n",
            "apeakk kece\n",
            "apeakk kece\n",
            "apeakk kece\n",
            "apeakk kece\n",
            "apeakk kece\n",
            "apeakk kece\n",
            "apeakk kece\n",
            "apeakk kece\n",
            "apeakk kece\n",
            "apeakk kece\n",
            "apeakk kece\n",
            "apeakk kece\n",
            "apeakk kece\n",
            "apeakk kece\n",
            "apeakk kece\n",
            "apeakk kece\n",
            "apeakk kece\n",
            "apeakk kece\n",
            "apeakk kece\n",
            "apeakk kece\n",
            "apeakk kece\n",
            "apeakk kece\n",
            "apeakk kece\n",
            "apeakk kece\n",
            "apeakk kece\n",
            "apeakk kece\n",
            "apeakk kece\n",
            "apeakk kece\n",
            "apeakk kece\n",
            "apeakk kece\n",
            "apeakk kece\n",
            "apeakk kece\n",
            "apeakk kece\n",
            "apeakk kece\n",
            "apeakk kece\n",
            "apeakk kece\n",
            "apeakk kece\n",
            "apeakk kece\n",
            "apeakk kece\n",
            "apeakk kece\n",
            "apeakk kece\n",
            "apeakk kece\n",
            "apeakk kece\n",
            "apeakk kece\n",
            "apeakk kece\n",
            "apeakk kece\n",
            "apeakk kece\n"
          ]
        }
      ]
    },
    {
      "cell_type": "code",
      "source": [
        "a = int( input())\n",
        "b = int( input())\n",
        "\n",
        "for i in range(a, b+2):\n",
        "  print(i)"
      ],
      "metadata": {
        "colab": {
          "base_uri": "https://localhost:8080/"
        },
        "id": "GF1g3eCPSzRZ",
        "outputId": "09d787ee-99a4-4045-e0c5-db89268255dc"
      },
      "execution_count": null,
      "outputs": [
        {
          "output_type": "stream",
          "name": "stdout",
          "text": [
            "2\n",
            "6\n",
            "2\n",
            "3\n",
            "4\n",
            "5\n",
            "6\n",
            "7\n"
          ]
        }
      ]
    },
    {
      "cell_type": "code",
      "source": [
        "#whileloopo\n",
        "counter = 1\n",
        "while counter <= 5:\n",
        "  print(counter)\n",
        "  counter += 1    #increment"
      ],
      "metadata": {
        "colab": {
          "base_uri": "https://localhost:8080/"
        },
        "id": "i1V_1IFxTwxH",
        "outputId": "f6edfc1b-a07b-434c-b459-7a667daaead3"
      },
      "execution_count": null,
      "outputs": [
        {
          "output_type": "stream",
          "name": "stdout",
          "text": [
            "1\n",
            "2\n",
            "3\n",
            "4\n",
            "5\n"
          ]
        }
      ]
    },
    {
      "cell_type": "code",
      "source": [
        "a = int( input())\n",
        "b = int( input())\n",
        "\n",
        "i=a\n",
        "while(i <= b):\n",
        "  print(i)\n",
        "  i += 1"
      ],
      "metadata": {
        "colab": {
          "base_uri": "https://localhost:8080/"
        },
        "id": "6NoX-068WN_P",
        "outputId": "3977c90b-bcd0-419e-857b-c8181e69c4a9"
      },
      "execution_count": null,
      "outputs": [
        {
          "output_type": "stream",
          "name": "stdout",
          "text": [
            "2\n",
            "9\n",
            "2\n",
            "3\n",
            "4\n",
            "5\n",
            "6\n",
            "7\n",
            "8\n",
            "9\n"
          ]
        }
      ]
    },
    {
      "cell_type": "code",
      "source": [
        "n = int( input())\n",
        "\n",
        "for i in range(n):\n",
        "  for j in range(n):\n",
        "    print(\"*\", end=\"\") #diskusikan sebnyak n * n kali\n",
        "\n",
        "# diskusikan sebnyak n kali\n",
        "#perhatikan indentasi di dalam perulangan"
      ],
      "metadata": {
        "id": "x_IHqVGXWUfg"
      },
      "execution_count": null,
      "outputs": []
    },
    {
      "cell_type": "code",
      "source": [],
      "metadata": {
        "id": "24-0JFSbXKdr"
      },
      "execution_count": null,
      "outputs": []
    },
    {
      "cell_type": "code",
      "source": [
        "N = int(input(\"Masukkan N: \"))\n",
        "\n",
        "\n",
        "i = n + 1\n",
        "while i % 5 ! = 0:\n",
        "i += 1\n",
        "\n",
        "print(output)"
      ],
      "metadata": {
        "id": "LdHw917gZL6s"
      },
      "execution_count": null,
      "outputs": []
    },
    {
      "cell_type": "markdown",
      "source": [],
      "metadata": {
        "id": "lTA2DzFWLyhN"
      }
    },
    {
      "cell_type": "code",
      "source": [
        "N = int(input(\"masukkan nilai N: \"))\n",
        "\n",
        "\n",
        "for i in range(1, n+1):\n",
        "  print('*' * )"
      ],
      "metadata": {
        "id": "z-P-ygDXaBoJ"
      },
      "execution_count": null,
      "outputs": []
    },
    {
      "cell_type": "code",
      "source": [
        "n = int(input())\n",
        "\n",
        "for i in range(n):\n",
        "    for j in range(i+1):\n",
        "        print(\"*\", end=\"\")\n",
        "    print()"
      ],
      "metadata": {
        "colab": {
          "base_uri": "https://localhost:8080/"
        },
        "id": "6WDL1obOX9-j",
        "outputId": "3e1f94e7-d6a1-4db5-895a-bcf95fa6cddb"
      },
      "execution_count": 5,
      "outputs": [
        {
          "output_type": "stream",
          "name": "stdout",
          "text": [
            "21\n",
            "*\n",
            "**\n",
            "***\n",
            "****\n",
            "*****\n",
            "******\n",
            "*******\n",
            "********\n",
            "*********\n",
            "**********\n",
            "***********\n",
            "************\n",
            "*************\n",
            "**************\n",
            "***************\n",
            "****************\n",
            "*****************\n",
            "******************\n",
            "*******************\n",
            "********************\n",
            "*********************\n"
          ]
        }
      ]
    },
    {
      "cell_type": "markdown",
      "source": [
        "- Interpretasi coding:\n",
        "\n",
        "- Interpretasi Hasil:"
      ],
      "metadata": {
        "id": "f1J9LJyv9-YC"
      }
    },
    {
      "cell_type": "markdown",
      "source": [
        "#🧠 LATIHAN SOAL DI KELAS ⏱️"
      ],
      "metadata": {
        "id": "KEGjH0_P9D1-"
      }
    },
    {
      "cell_type": "markdown",
      "source": [
        "Soal 1 buatlah program yang menerima bilangan N dan menuliskan bilangan 10x terkecil yang lebih dari N"
      ],
      "metadata": {
        "id": "nmY5JCB3aplU"
      }
    },
    {
      "cell_type": "code",
      "source": [
        "def cari_10pangkatx(n):\n",
        "  x = 0\n",
        "  pangkat10 = 1\n",
        "  while pangkat10 <= n:\n",
        "    x += 1\n",
        "    pangkat10 = 10 ** x\n",
        "  return pangkat10\n",
        "\n",
        "n = int(input(\"Masukkan bilangan N: \"))\n",
        "hasil = cari_10pangkatx(n)\n",
        "print(\"Bilangan 10 pangkat x terkecil yang lebih dari\", n, \"adalah:\", hasil)"
      ],
      "metadata": {
        "colab": {
          "base_uri": "https://localhost:8080/"
        },
        "id": "b-DT3dGyadBW",
        "outputId": "ee10bf7f-19ad-490a-c46b-65a17cbdd913"
      },
      "execution_count": 8,
      "outputs": [
        {
          "output_type": "stream",
          "name": "stdout",
          "text": [
            "Masukkan bilangan N: 5\n",
            "Bilangan 10 pangkat x terkecil yang lebih dari 5 adalah: 10\n"
          ]
        }
      ]
    },
    {
      "cell_type": "code",
      "source": [
        "def cari_10pangkatx(n):\n",
        "  x = 0\n",
        "  pangkat10 = 1\n",
        "  while pangkat10 <= n:\n",
        "    x += 1\n",
        "    pangkat10 = 10 ** x\n",
        "  return pangkat10\n",
        "\n",
        "n = int(input(\"Masukkan bilangan N: \"))\n",
        "hasil = cari_10pangkatx(n)\n",
        "print(\"Bilangan 10 pangkat x terkecil yang lebih dari\", n, \"adalah:\", hasil)"
      ],
      "metadata": {
        "colab": {
          "base_uri": "https://localhost:8080/"
        },
        "id": "gbxLdxdJbtdV",
        "outputId": "a9695962-329c-4261-a2b3-3af7e86d9566"
      },
      "execution_count": 10,
      "outputs": [
        {
          "output_type": "stream",
          "name": "stdout",
          "text": [
            "Masukkan bilangan N: 1234\n",
            "Bilangan 10 pangkat x terkecil yang lebih dari 1234 adalah: 10000\n"
          ]
        }
      ]
    },
    {
      "cell_type": "markdown",
      "source": [
        "INTERPRETASI\n",
        "\n",
        "Fungsi cari_10pangkatx(N) inisialisasi Variabel\n",
        "\n",
        "x: Diinisialisasi dengan 0. Ini akan digunakan untuk menghitung pangkat 10. pangkat10: Diinisialisasi dengan 1 (10^0). Looping:\n",
        "\n",
        "Program memasuki loop while yang akan terus berjalan selama pangkat10 kurang dari atau sama dengan n. Dalam setiap iterasi: Nilai x akan bertambah 1. pangkat10 dihitung ulang sebagai 10 pangkat x (10^x). Loop ini berlanjut sampai pangkat10 menjadi lebih besar dari n. Return:\n",
        "\n",
        "Setelah loop selesai, fungsi akan mengembalikan nilai pangkat10, yang sekarang adalah bilangan 10 pangkat x terkecil yang lebih besar dari n. Input dan Output Input Pengguna:\n",
        "\n",
        "Program meminta pengguna untuk memasukkan suatu bilangan N. Pemanggilan Fungsi:\n",
        "\n",
        "Fungsi cari_10pangkatx dipanggil dengan N sebagai argumen, dan hasilnya disimpan dalam variabel hasil. Output:\n",
        "\n",
        "Program mencetak hasil, yang merupakan bilangan 10 pangkat x terkecil yang lebih besar dari N."
      ],
      "metadata": {
        "id": "tY7m-jOZb_Dv"
      }
    },
    {
      "cell_type": "markdown",
      "source": [
        "S\n",
        "OAL 2 Buatlah program yang menerima bilangan N dan membuat pola segitiga angka dengan dasar N"
      ],
      "metadata": {
        "id": "xf5ASHDTclXK"
      }
    },
    {
      "cell_type": "code",
      "source": [
        "def buat_segitiga_angka(n):\n",
        "  for i in range(1, n + 1):\n",
        "    for j in range(i):\n",
        "      print(j + 1, end=\" \")\n",
        "    print()\n",
        "\n",
        "n = int(input(\"Masukkan bilangan N: \"))\n",
        "buat_segitiga_angka(n)"
      ],
      "metadata": {
        "colab": {
          "base_uri": "https://localhost:8080/"
        },
        "id": "84B-bE5ocsS-",
        "outputId": "57c15f72-777e-487f-9d95-72b4b6094e95"
      },
      "execution_count": 11,
      "outputs": [
        {
          "output_type": "stream",
          "name": "stdout",
          "text": [
            "Masukkan bilangan N: 5\n",
            "1 \n",
            "1 2 \n",
            "1 2 3 \n",
            "1 2 3 4 \n",
            "1 2 3 4 5 \n"
          ]
        }
      ]
    },
    {
      "cell_type": "markdown",
      "source": [
        "INTERPRETASI\n",
        "\n",
        "Fungsi buat_segitiga_angka(n) Input Pengguna:\n",
        "\n",
        "Program meminta pengguna untuk memasukkan bilangan N, yang menentukan tinggi segitiga angka. Looping untuk Membangun Segitiga:\n",
        "\n",
        "Fungsi buat_segitiga_angka melakukan iterasi menggunakan dua loop bersarang: Loop Pertama (for i in range(1, n + 1)): Loop ini mengontrol jumlah baris pada segitiga. Variabel i mulai dari 1 hingga N.\n",
        "\n",
        "Loop Kedua (for j in range(i)): Loop ini mencetak angka dari 1 hingga i untuk setiap baris. Untuk setiap iterasi i, loop ini akan mencetak angka dari 1 hingga i (dari j + 1).\n",
        "\n",
        "Pencetakan Angka:\n",
        "\n",
        "Di dalam loop kedua, angka dicetak dengan end=\" \" yang memastikan bahwa angka dicetak pada baris yang sama, dipisahkan oleh spasi.\n",
        "\n",
        "Setelah selesai mencetak angka untuk satu baris, print() tanpa argumen digunakan untuk pindah ke baris berikutnya.\n",
        "\n",
        "Kelipatan 10 Terkecil:\n",
        "\n",
        "Loop yang Digunakan: Lebih cocok menggunakan loop while jika ingin mencari secara iteratif (meskipun tidak perlu).\n",
        "\n",
        "Karakteristik:\n",
        "\n",
        "while dapat digunakan untuk terus menambah hingga menemukan kelipatan 10, tapi ini tidak efisien. Lebih baik menggunakan rum us tanpa loop untuk efisiensi.\n",
        "\n",
        "Segitiga Angka:\n",
        "\n",
        "Loop yang Digunakan: Menggunakan loop for untuk iterasi.\n",
        "\n",
        "Karakteristik:\n",
        "\n",
        "for lebih tepat karena kita tahu berapa banyak iterasi yang dibutuhkan (dari 1 hingga N).\n",
        "\n",
        "Memudahkan dalam membangun pola bertingkat karena dapat dengan mudah mengontrol jumlah baris dan angka dalam setiap baris.\n",
        "\n",
        "Kesimpulan\n",
        "\n",
        "for lebih baik untuk situasi dengan jumlah iterasi yang diketahui (seperti segitiga angka).\n",
        "\n",
        "while dapat digunakan untuk perhitungan berulang hingga kondisi tertentu (seperti mencari kelipatan), tetapi tidak efisien dalam kasus kelipatan 10."
      ],
      "metadata": {
        "id": "qf5k5dy2cxlA"
      }
    },
    {
      "cell_type": "markdown",
      "source": [
        "Problem (1) Kalkulator Sederhana"
      ],
      "metadata": {
        "id": "nt7-fY7s9PgC"
      }
    },
    {
      "cell_type": "code",
      "source": [
        "#program kalkulator sederhana\n",
        "\n",
        "def kalkulator():\n",
        "  \"\"\"Fungsi untuk menjalankan kalkulator sederhana.\"\"\"\n",
        "  while True:\n",
        "    print(\"\\nPilih operasi:\")\n",
        "    print(\"1. Penjumlahan (+)\")\n",
        "    print(\"2. Pengurangan (-)\")\n",
        "    print(\"3. Perkalian (*)\")\n",
        "    print(\"4. Pembagian (/)\")\n",
        "    print(\"5. Keluar\")\n",
        "\n",
        "    pilihan = input(\"Masukkan pilihan Anda (1/2/3/4/5): \")\n",
        "\n",
        "    if pilihan == '5':\n",
        "      print(\"Terima kasih telah menggunakan kalkulator!\")\n",
        "      break\n",
        "\n",
        "    try:\n",
        "      bilangan1 = float(input(\"Masukkan bilangan pertama: \"))\n",
        "      bilangan2 = float(input(\"Masukkan bilangan kedua: \"))\n",
        "    except ValueError:\n",
        "      print(\"Masukan harus berupa angka.\")\n",
        "      continue\n",
        "\n",
        "    if pilihan == '1':\n",
        "      print(\"Hasil:\", bilangan1 + bilangan2)\n",
        "    elif pilihan == '2':\n",
        "      print(\"Hasil:\", bilangan1 - bilangan2)\n",
        "    elif pilihan == '3':\n",
        "      print(\"Hasil:\", bilangan1 * bilangan2)\n",
        "    elif pilihan == '4':\n",
        "      if bilangan2 == 0:\n",
        "        print(\"Tidak dapat membagi dengan nol.\")\n",
        "      else:\n",
        "        print(\"Hasil:\", bilangan1 / bilangan2)\n",
        "    else:\n",
        "      print(\"Pilihan tidak valid.\")\n",
        "\n",
        "if __name__ == \"__main__\":\n",
        "  kalkulator()"
      ],
      "metadata": {
        "id": "h7si6sBj9Mr4",
        "colab": {
          "base_uri": "https://localhost:8080/"
        },
        "outputId": "70585623-df30-4472-b112-f91c04c0bb57"
      },
      "execution_count": 12,
      "outputs": [
        {
          "output_type": "stream",
          "name": "stdout",
          "text": [
            "\n",
            "Pilih operasi:\n",
            "1. Penjumlahan (+)\n",
            "2. Pengurangan (-)\n",
            "3. Perkalian (*)\n",
            "4. Pembagian (/)\n",
            "5. Keluar\n",
            "Masukkan pilihan Anda (1/2/3/4/5): 3\n",
            "Masukkan bilangan pertama: 97\n",
            "Masukkan bilangan kedua: 2\n",
            "Hasil: 194.0\n",
            "\n",
            "Pilih operasi:\n",
            "1. Penjumlahan (+)\n",
            "2. Pengurangan (-)\n",
            "3. Perkalian (*)\n",
            "4. Pembagian (/)\n",
            "5. Keluar\n",
            "Masukkan pilihan Anda (1/2/3/4/5): 5\n",
            "Terima kasih telah menggunakan kalkulator!\n"
          ]
        }
      ]
    },
    {
      "cell_type": "markdown",
      "source": [
        "- Interpretasi coding:\n",
        "\n",
        "- Interpretasi Hasil:"
      ],
      "metadata": {
        "id": "Wou8YKfJ9lvY"
      }
    },
    {
      "cell_type": "markdown",
      "source": [
        "Problem (2) Bilangan Ganjil"
      ],
      "metadata": {
        "id": "Eucg6DUK9fgA"
      }
    },
    {
      "cell_type": "code",
      "source": [
        "#program bilangan ganjil\n",
        "\n",
        "def bilangan_ganjil():\n",
        "\n",
        "  print(\"Bilangan ganjil dari 1 sampai 20:\")\n",
        "  for i in range(1, 21):\n",
        "    if i % 2 != 0:\n",
        "      print(i)\n",
        "\n",
        "if __name__ == \"__main__\":\n",
        "  bilangan_ganjil()"
      ],
      "metadata": {
        "id": "9uWMEZpP9hlB",
        "colab": {
          "base_uri": "https://localhost:8080/"
        },
        "outputId": "6c1d3ee7-933e-432b-ca48-cfbd9940ac4a"
      },
      "execution_count": 14,
      "outputs": [
        {
          "output_type": "stream",
          "name": "stdout",
          "text": [
            "Bilangan ganjil dari 1 sampai 20:\n",
            "1\n",
            "3\n",
            "5\n",
            "7\n",
            "9\n",
            "11\n",
            "13\n",
            "15\n",
            "17\n",
            "19\n"
          ]
        }
      ]
    },
    {
      "cell_type": "markdown",
      "source": [
        "- Interpretasi coding:\n",
        "\n",
        "- Interpretasi Hasil:"
      ],
      "metadata": {
        "id": "fM9Fo97_93Ni"
      }
    },
    {
      "cell_type": "markdown",
      "source": [
        "#🏆 POST TEST 🎯"
      ],
      "metadata": {
        "id": "J_75vTSXKFGE"
      }
    },
    {
      "cell_type": "markdown",
      "source": [
        "Problem (1)"
      ],
      "metadata": {
        "id": "twhHfrqiKSfV"
      }
    },
    {
      "cell_type": "markdown",
      "source": [
        "Problem (1) Terdapat N buah angka dari 1 hingga N. Jika x merupakan kelipatan dari A maka keluarkan ”Siap”. Jika x merupakan kelipatan dari B maka keluarkan ”Bang”. Jika x merupakan kelipatan dari C maka keluarkan ”Jago”. Jika x bukan merupakan keliatan dari semuanya, maka tampilkan angkanya saja.\n",
        "\n",
        "Catatan: Kata Siap, Bang dan Jago dapat muncul pada saat yang bersamaan. Untuk lebih jelasnya, perhatikan Test Case."
      ],
      "metadata": {
        "id": "mjdR5O9LfK3J"
      }
    },
    {
      "cell_type": "code",
      "source": [
        "def keluaran(N, A, B, C):\n",
        "  for i in range(1, N + 1):\n",
        "    keluaran = \"\"\n",
        "    if i % A == 0:\n",
        "      keluaran += \"Siap\"\n",
        "    if i % B == 0:\n",
        "      keluaran += \"Bang\"\n",
        "    if i % C == 0:\n",
        "      keluaran += \"Jago\"\n",
        "    if keluaran == \"\":\n",
        "      keluaran = str(i)\n",
        "    print(keluaran, end=\" \")\n",
        "\n",
        "N = int(input(\"Masukkan nilai N: \"))\n",
        "A = int(input(\"Masukkan nilai A: \"))\n",
        "B = int(input(\"Masukkan nilai B: \"))\n",
        "C = int(input(\"Masukkan nilai C: \"))\n",
        "\n",
        "keluaran(N, A, B, C)"
      ],
      "metadata": {
        "id": "hOI8Gls9KV05",
        "colab": {
          "base_uri": "https://localhost:8080/"
        },
        "outputId": "c92a793a-d8fc-4f46-d23c-f28a3eb08813"
      },
      "execution_count": 19,
      "outputs": [
        {
          "output_type": "stream",
          "name": "stdout",
          "text": [
            "Masukkan nilai N: 5\n",
            "Masukkan nilai A: 1\n",
            "Masukkan nilai B: 1\n",
            "Masukkan nilai C: 1\n",
            "SiapBangJago SiapBangJago SiapBangJago SiapBangJago SiapBangJago "
          ]
        }
      ]
    },
    {
      "cell_type": "code",
      "source": [
        "  n = int(input(\"Masukkan N: \"))\n",
        "  a = int(input(\"Masukkan A: \"))\n",
        "  b = int(input(\"Masukkan B: \"))\n",
        "  c = int(input(\"Masukkan C: \"))\n",
        "\n",
        "  for x in range(1, n + 1):\n",
        "    output = \"\"\n",
        "    if x % a == 0:\n",
        "      output += \"Siap\"\n",
        "    if x % b == 0:\n",
        "      output += \"Bang\"\n",
        "    if x % c == 0:\n",
        "      output += \"Jago\"\n",
        "\n",
        "    if output == \"\":\n",
        "      print(x)\n",
        "    else:\n",
        "      print(output)"
      ],
      "metadata": {
        "colab": {
          "base_uri": "https://localhost:8080/"
        },
        "id": "Y8MDcT_Cgnnt",
        "outputId": "dc34ac11-8627-4c44-e325-aab82116950d"
      },
      "execution_count": 21,
      "outputs": [
        {
          "output_type": "stream",
          "name": "stdout",
          "text": [
            "Masukkan N: 5\n",
            "Masukkan A: 1\n",
            "Masukkan B: 1\n",
            "Masukkan C: 1\n",
            "SiapBangJago\n",
            "SiapBangJago\n",
            "SiapBangJago\n",
            "SiapBangJago\n",
            "SiapBangJago\n"
          ]
        }
      ]
    },
    {
      "cell_type": "markdown",
      "source": [
        "INTERPRETASI CODING\n",
        "\n",
        "a. Input Pengguna:\n",
        "\n",
        "Program meminta pengguna untuk memasukkan empat angka: N, A, B, dan C. N: batas atas dari iterasi (jumlah angka yang akan diperiksa).\n",
        "\n",
        "A, B, C: angka yang digunakan untuk menentukan apakah angka dalam rentang tersebut dapat dibagi tanpa sisa.\n",
        "\n",
        "b. Looping:\n",
        "\n",
        "Program melakukan iterasi dari 1 hingga N (inklusif). Setiap angka dalam rentang ini diperiksa untuk memenuhi kondisi tertentu.\n",
        "\n",
        "c. Kondisi Pembagian:\n",
        "\n",
        "Untuk setiap angka x: Jika x dapat dibagi oleh A, maka string \"Siap\" ditambahkan ke variabel output.\n",
        "\n",
        "Jika x dapat dibagi oleh B, maka string \"Bang\" ditambahkan ke variabel output.\n",
        "\n",
        "Jika x dapat dibagi oleh C, maka string \"Jago\" ditambahkan ke variabel output.\n",
        "\n",
        "d. Output:\n",
        "\n",
        "Jika output tetap kosong (artinya x tidak dapat dibagi oleh A, B, atau C), program akan mencetak angka x itu sendiri.\n",
        "\n",
        "Jika output tidak kosong, program akan mencetak string yang telah dibentuk berdasarkan kondisi pembagian."
      ],
      "metadata": {
        "id": "m1gM9hBLgvMy"
      }
    },
    {
      "cell_type": "markdown",
      "source": [
        "📌Catatan:\n",
        "  - Notebook python ini dibuat untuk memudahkan temen-temen belajar ngoding dan pengumpulan tugas.\n",
        "  - Silakan download notebook ini lalu upload di Google Collab milik kalian agar format `pertemuan`, `topik pertemuan`,\n",
        "`tanggal`, `deskripsi pembahasan materi`, `baris coding` dan `interpretasi` bisa disesuaikan dengan kebutuhan teman-teman.\n",
        "\n",
        "  - Interpretasi coding dan hasil dimaksudkan agar teman-teman semakin memahami apa yang dipelajari.\n",
        "\n",
        "  - Deskripsi pembahasan materi dimaksudkan agar teman-teman semakin memahami apa fokus yang dipelajari.\n",
        "\n",
        "  - Tulisan di setiap sebelum baris code disebut `markdown`. Ada beberapa jenis simbol yang memudahkan kepenulisan `markdown` kita, yaitu seperti : untuk mengatur ukuran tulisan biasanya tulisan pada header menggunakan ini`#`, `##`, `###`, untuk membuat pointer menggunakan ini `-`, untuk membuat tulisan ter-highlight menggunakan ini *` `* , untuk short-cut membuat tulisan jadi **bold** gunakan ini `** **`, dan untuk *tulisan miring* gunakan ini `* *` .\n",
        "\n",
        "  - Semangat belajar! 🌟✨\n",
        "\n",
        "©️ LABORATORIUM SAINS DATA 2024"
      ],
      "metadata": {
        "id": "D-tRQnbQK69l"
      }
    }
  ]
}