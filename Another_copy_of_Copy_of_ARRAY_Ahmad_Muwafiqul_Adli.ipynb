{
  "nbformat": 4,
  "nbformat_minor": 0,
  "metadata": {
    "colab": {
      "provenance": [],
      "include_colab_link": true
    },
    "kernelspec": {
      "name": "python3",
      "display_name": "Python 3"
    },
    "language_info": {
      "name": "python"
    }
  },
  "cells": [
    {
      "cell_type": "markdown",
      "metadata": {
        "id": "view-in-github",
        "colab_type": "text"
      },
      "source": [
        "<a href=\"https://colab.research.google.com/github/ApikMu/Ahmad/blob/main/Another_copy_of_Copy_of_ARRAY_Ahmad_Muwafiqul_Adli.ipynb\" target=\"_parent\"><img src=\"https://colab.research.google.com/assets/colab-badge.svg\" alt=\"Open In Colab\"/></a>"
      ]
    },
    {
      "cell_type": "markdown",
      "source": [
        "#**🖥️👩🏻‍💻PRAKTIKUM PEMROGRAMAN LANJUT🔥**\n",
        "##**Pertemuan (3) Array- Senin, 28 Oktober 2024**\n",
        "\n",
        "👤 Nama: ahmad muwafiqul adli / NRP: 2C2230006 / Kelas: III/A Sains Data\n",
        "\n",
        "💬Deskripsi Pembahasan Materi Array:\n",
        "\n",
        "1.1.  Definisi Array  🔂\n",
        "\n",
        "- Array mendefinisikan sekumpulan (satu atau lebih) elemen bertype sama.\n",
        "\n",
        "- Setiap elemen tersusun secara terurut (kontinu) dan dapat diakses dengan menggunakan indeks.\n",
        "\n",
        "- Dalam Python, ada beberapa cara mendeklarasikan array dalam kuliah ini, array didefinisikan menggunakan collection type list\n",
        "\n",
        "1.2. Deklarasi Array dalam python (1) 🔂🐦‍\n",
        "\n",
        "cara-1:\n",
        "\n",
        "Deklarasi Variabel array sekaligus mendifinisikan isi array: = [, , <val₂>, ]\n",
        "\n",
        "Deklarasi array dengan nama dengan ukuran n dengan elemen , <val,>, ,\n",
        "\n",
        "  - Type elemen tergantung pada nilai elemen yang diberikan\n",
        "\n",
        " - Elemen terurut berdasarkan indeks dari 0 s.d. n - 1.\n",
        "\n",
        "Jika belum diketahui nilai apa yang akan diberikan pada array, maka dapat diberikan suatu nilai default seragam terlebih dahulu\n",
        "\n",
        "\n",
        "Cara-2: Mendeklarasikan array dan mengisi dengan nilai default:\n",
        "\n",
        "-Deklarasi array dengan nama dengan ukuran dengan nilai setiap elemen .i adalah variabel untuk loop pengisian nilai default ke tiap elemen array.\n",
        "\n",
        "-Type elemen tergantung pada type nilai\n",
        "\n",
        "-Elemen terurut berdasarkan indeks dari 0 s.d. n - 1.\n",
        "\n",
        "1.3 Pemrosesan Sekuentasial pada array (1)\n",
        "\n",
        "Pemrosesan sekuensial pada array adalah memroses setiap elemen array mulai dari elemen pada indeks terkecil s.d. indeks terbesar dengan menggunakan pengulangan (loop)\n",
        "\n",
        " -Setiap elemen array diakses secara langsung dengan indeks\n",
        "\n",
        "-First element adalah elemen array dengan indeks terkecil\n",
        "\n",
        "-Next element dicapai melalui suksesor indeks\n",
        "\n",
        "-Kondisi berhenti dicapai jika indeks yang diproses adalah indeks terbesar yang terdefinisi sebelumnya\n",
        "Array tidak kosong, artinya minimum memiliki 1 elemen\n",
        "\n"
      ],
      "metadata": {
        "id": "_bN6_LxQCJZT"
      }
    },
    {
      "cell_type": "markdown",
      "source": [
        "#🤸🏻‍♀️ EKSPLORASI PRIBADI DI KELAS ✨"
      ],
      "metadata": {
        "id": "N0U2Qjks8P9F"
      }
    },
    {
      "cell_type": "code",
      "source": [
        "cars = [\"Ford,\" \"Volvo,\" \"BMW\"]\n",
        "print(cars)"
      ],
      "metadata": {
        "colab": {
          "base_uri": "https://localhost:8080/"
        },
        "id": "9Yn7zMTLxKri",
        "outputId": "bdfb670b-dc4b-4aef-ddcc-cf516e986a1c"
      },
      "execution_count": null,
      "outputs": [
        {
          "output_type": "stream",
          "name": "stdout",
          "text": [
            "['Ford,Volvo,BMW']\n"
          ]
        }
      ]
    },
    {
      "cell_type": "code",
      "source": [
        "#mengembalikan jumlah elemen dalam cars array\n",
        "\n",
        "cars=[\"Ford\",\"Volvo\",\"BMW\"]\n",
        "x=len(cars)\n",
        "print(x)"
      ],
      "metadata": {
        "colab": {
          "base_uri": "https://localhost:8080/"
        },
        "id": "g2HmA9btxKgL",
        "outputId": "adc6e9a4-b536-498d-d308-84407f3c5243"
      },
      "execution_count": null,
      "outputs": [
        {
          "output_type": "stream",
          "name": "stdout",
          "text": [
            "3\n"
          ]
        }
      ]
    },
    {
      "cell_type": "code",
      "source": [
        "#Tambahkan satu elemen lagi ke cars array\n",
        "\n",
        "cars=[\"Ford\",\"Volvo\",\"BMW\"]\n",
        "cars.append(\"Honda\")\n",
        "print(cars)"
      ],
      "metadata": {
        "colab": {
          "base_uri": "https://localhost:8080/"
        },
        "id": "q8EgwizmxKVD",
        "outputId": "2713bc32-e555-4b55-c8e2-34150a39ae84"
      },
      "execution_count": null,
      "outputs": [
        {
          "output_type": "stream",
          "name": "stdout",
          "text": [
            "['Ford', 'Volvo', 'BMW', 'Honda']\n"
          ]
        }
      ]
    },
    {
      "cell_type": "code",
      "source": [
        "#Hapus elemen kedua dari cars array\n",
        "\n",
        "cars=[\"Ford\",\"Volvo\",\"BMW\"]\n",
        "cars.pop(1)\n",
        "print(cars)"
      ],
      "metadata": {
        "colab": {
          "base_uri": "https://localhost:8080/"
        },
        "id": "S3AiI604xKFX",
        "outputId": "e7f8c3f7-97b3-4628-9c5b-e18a1f78d93d"
      },
      "execution_count": null,
      "outputs": [
        {
          "output_type": "stream",
          "name": "stdout",
          "text": [
            "['Ford', 'BMW']\n"
          ]
        }
      ]
    },
    {
      "cell_type": "code",
      "source": [
        "#hapus elemen yang memiliki nilai \"Volvo\"\n",
        "\n",
        "cars=[\"Ford\", \"volvo\",\"BMW\"]\n",
        "cars.remove(\"volvo\")\n",
        "print(cars)"
      ],
      "metadata": {
        "colab": {
          "base_uri": "https://localhost:8080/"
        },
        "id": "2VQHaNZBxaeg",
        "outputId": "089bf394-4148-47f5-8a44-7962b6a9701a"
      },
      "execution_count": null,
      "outputs": [
        {
          "output_type": "stream",
          "name": "stdout",
          "text": [
            "['Ford', 'BMW']\n"
          ]
        }
      ]
    },
    {
      "cell_type": "markdown",
      "source": [
        "#🧠 LATIHAN SOAL DI KELAS ⏱️"
      ],
      "metadata": {
        "id": "KEGjH0_P9D1-"
      }
    },
    {
      "cell_type": "markdown",
      "source": [
        "LATIHAN MODUL 3\n"
      ],
      "metadata": {
        "id": "ntb4v3CUelH_"
      }
    },
    {
      "cell_type": "markdown",
      "source": [
        "1. Reveerse\n"
      ],
      "metadata": {
        "id": "uKNmkG9neqbV"
      }
    },
    {
      "cell_type": "markdown",
      "source": [
        "Buatlah program yang menerima N buah bilangan dan menuliskan kembali bilangan-bilangan tersebut, namun dengan urutan terbalik."
      ],
      "metadata": {
        "id": "_RxbjXpMf7xk"
      }
    },
    {
      "cell_type": "code",
      "source": [
        "N = int(input(\"Masukkan N;\"))\n",
        "bilangan = []\n",
        "for i in range(N):\n",
        "  bilangan.append(int(input(\"Masukkan bilangan:\")))\n",
        "bilangan.reverse()\n",
        "print(bilangan)"
      ],
      "metadata": {
        "id": "PDCVLe_yfSSv",
        "colab": {
          "base_uri": "https://localhost:8080/"
        },
        "outputId": "0009a75f-b546-4ec4-cc8a-bf8d35bcda19"
      },
      "execution_count": null,
      "outputs": [
        {
          "output_type": "stream",
          "name": "stdout",
          "text": [
            "Masukkan N;5\n",
            "Masukkan bilangan:5\n",
            "Masukkan bilangan:2\n",
            "Masukkan bilangan:1\n",
            "Masukkan bilangan:6\n",
            "Masukkan bilangan:3\n",
            "[3, 6, 1, 2, 5]\n"
          ]
        }
      ]
    },
    {
      "cell_type": "markdown",
      "source": [
        "- Interpretasi : Input angka N sebagai jumlah bilangan keybord, Lalu program meminta deretan sesuai jumlah nilai N, Kemudian nilai deret tersebut akan dibalik urutan elemennya.\n",
        "\n",
        "-interpretasi coding : memunculkan hasil Masukkan N:5 5 2 1 6 3 [3, 6, 1, 2, 5]"
      ],
      "metadata": {
        "id": "RKtvGCe4_99W"
      }
    },
    {
      "cell_type": "markdown",
      "source": [
        "2. Anagram\n"
      ],
      "metadata": {
        "id": "3-jCrbAMfcY_"
      }
    },
    {
      "cell_type": "markdown",
      "source": [
        "Diberikan dua array A dan B. Buatlah sebuah program yang dapat memeriksa apakah B meru-\n",
        "pakan anagram dari A. Asumsikan elemen pada array A dan B maksimal 10. Array B didefinisikan\n",
        "sebagai anagram dari array A bila elemen-elemen di array A dapat ditukar-tukar sehingga menghasilkan\n",
        "array B."
      ],
      "metadata": {
        "id": "4j-DsEV6f_9e"
      }
    },
    {
      "cell_type": "code",
      "source": [
        "# Meminta input jumlah elemen dan elemen untuk A\n",
        "nA = int(input(\"Masukkan banyaknya elemen A: \"))\n",
        "A = [int(input(f\"Masukkan elemen A ke-{i+1}: \")) for i in range(nA)]\n",
        "\n",
        "# Meminta input jumlah elemen dan elemen untuk B\n",
        "nB = int(input(\"Masukkan banyaknya elemen B: \"))\n",
        "B = [int(input(f\"Masukkan elemen B ke-{i+1}: \")) for i in range(nB)]\n",
        "\n",
        "# Cek apakah A dan B memiliki jumlah elemen yang sama dan frekuensi elemen yang sama\n",
        "if nA == nB and sorted(A) == sorted(B):\n",
        "    print(\"B adalah anagram dari A\")\n",
        "else:\n",
        "    print(\"B bukan anagram dari A\")"
      ],
      "metadata": {
        "colab": {
          "base_uri": "https://localhost:8080/"
        },
        "id": "s8neKnc3BBGc",
        "outputId": "9e20cab6-1b77-4dfe-ecde-f08fe0be8086"
      },
      "execution_count": null,
      "outputs": [
        {
          "output_type": "stream",
          "name": "stdout",
          "text": [
            "Masukkan banyaknya elemen A: 3\n",
            "Masukkan elemen A ke-1: 8\n",
            "Masukkan elemen A ke-2: 4\n",
            "Masukkan elemen A ke-3: 3\n",
            "Masukkan banyaknya elemen B: 3\n",
            "Masukkan elemen B ke-1: 4\n",
            "Masukkan elemen B ke-2: 8\n",
            "Masukkan elemen B ke-3: 3\n",
            "B adalah anagram dari A\n"
          ]
        }
      ]
    },
    {
      "cell_type": "code",
      "source": [
        "33# Meminta input jumlah elemen dan elemen untuk A\n",
        "nA = int(input(\"Masukkan banyaknya elemen A: \"))\n",
        "A = [int(input(f\"Masukkan elemen A ke-{i+1}: \")) for i in range(nA)]\n",
        "\n",
        "# Meminta input jumlah elemen dan elemen untuk B\n",
        "nB = int(input(\"Masukkan banyaknya elemen B: \"))\n",
        "B = [int(input(f\"Masukkan elemen B ke-{i+1}: \")) for i in range(nB)]\n",
        "\n",
        "# Cek apakah A dan B memiliki jumlah elemen yang sama dan frekuensi elemen yang sama\n",
        "if nA == nB and sorted(A) == sorted(B):\n",
        "    print(\"B adalah anagram dari A\")\n",
        "else:\n",
        "    print(\"B bukan anagram dari A\")"
      ],
      "metadata": {
        "id": "gao0tTHjgQtX",
        "colab": {
          "base_uri": "https://localhost:8080/"
        },
        "outputId": "0d103542-8329-4b39-dc46-8510dad490b5"
      },
      "execution_count": null,
      "outputs": [
        {
          "output_type": "stream",
          "name": "stdout",
          "text": [
            "Masukkan banyaknya elemen A: 2\n",
            "Masukkan elemen A ke-1: 1\n",
            "Masukkan elemen A ke-2: 4\n",
            "Masukkan banyaknya elemen B: 2\n",
            "Masukkan elemen B ke-1: 1\n",
            "Masukkan elemen B ke-2: 5\n",
            "B bukan anagram dari A\n"
          ]
        }
      ]
    },
    {
      "cell_type": "markdown",
      "source": [
        "- Interpretasi coding:\n",
        "\n",
        "1. Program meminta pengguna memasukan jumlah elemen array A, yang disimpan di variabel nA\n",
        "2. Program meminta pengguna memasukan jumlah elemen array B, yang disimpan di variabel nB\n",
        "3. Mengecek dua kondisi -Apakah jumlah elemen A sama dengan jumlah elemen B. Jika nA tidak sama dengan nB, B otomatis bukan anagram dari A.\n",
        "\n",
        "- Jika kedua kondisi terpenuhi, program mencetak “B adalah anagram dari A”; jika tidak, program mencetak “B bukan anagram dari A”.\n",
        "\n",
        "- Interpretasi Hasil:\n",
        "\n",
        "-contoh 1\n",
        "\n",
        "Masukkan banyaknya elemen A: 3\n",
        "\n",
        "Masukkan elemen A ke-1: 8\n",
        "\n",
        "Masukkan elemen A ke-2: 4\n",
        "\n",
        "Masukkan elemen A ke-3: 3\n",
        "\n",
        "Masukkan banyaknya elemen B: 3\n",
        "\n",
        "Masukkan elemen B ke-1: 4\n",
        "\n",
        "Masukkan elemen B ke-2: 8\n",
        "\n",
        "Masukkan elemen B ke-3: 3\n",
        "\n",
        "B adalah anagram dari A\n",
        "\n",
        "-contoh 2 Masukkan banyaknya elemen A: 2\n",
        "\n",
        "Masukkan elemen A ke-1: 1\n",
        "\n",
        "Masukkan elemen A ke-2: 4\n",
        "\n",
        "Masukkan banyaknya elemen B: 2\n",
        "\n",
        "Masukkan elemen B ke-1: 1\n",
        "\n",
        "Masukkan elemen B ke-2: 5\n",
        "\n",
        "B bukan anagram dari A"
      ],
      "metadata": {
        "id": "uOUYgF1FBgmJ"
      }
    },
    {
      "cell_type": "markdown",
      "source": [
        "3. Palindrom"
      ],
      "metadata": {
        "id": "wcyuNVWJgXXt"
      }
    },
    {
      "cell_type": "markdown",
      "source": [
        "Buatlah program yang menerima sebuah string dan menuliskan apakah string tersebut palindrom.\n",
        "Asumsikan string hanya berisi huruf kecil (a-z)."
      ],
      "metadata": {
        "id": "8-DmwPipgY6X"
      }
    },
    {
      "cell_type": "markdown",
      "source": [
        "contoh 1"
      ],
      "metadata": {
        "id": "giRqlYnkhBQs"
      }
    },
    {
      "cell_type": "code",
      "source": [
        "# Meminta input panjang string dan string itu sendiri\n",
        "n = int(input(\"Masukkan panjang string: \"))\n",
        "string = input(\"Masukkan string: \")\n",
        "\n",
        "# Memeriksa apakah string sama dengan versi terbaliknya\n",
        "if string == string[::-1]:\n",
        "    print(f\"{string} adalah palindrom\")\n",
        "else:\n",
        "    print(f\"{string} bukan palindrom\")"
      ],
      "metadata": {
        "id": "NbJA_5yjz2ze",
        "colab": {
          "base_uri": "https://localhost:8080/"
        },
        "outputId": "b5cb5925-e414-458d-a3fa-fad945624f7d"
      },
      "execution_count": null,
      "outputs": [
        {
          "output_type": "stream",
          "name": "stdout",
          "text": [
            "Masukkan panjang string: 5\n",
            "Masukkan string: makan\n",
            "makan bukan palindrom\n"
          ]
        }
      ]
    },
    {
      "cell_type": "markdown",
      "source": [
        "contoh 2"
      ],
      "metadata": {
        "id": "giMSVmqphcCV"
      }
    },
    {
      "cell_type": "code",
      "source": [
        "# Meminta input panjang string dan string itu sendiri\n",
        "n = int(input(\"Masukkan panjang string: \"))\n",
        "string = input(\"Masukkan string: \")\n",
        "\n",
        "# Memeriksa apakah string sama dengan versi terbaliknya\n",
        "if string == string[::-1]:\n",
        "    print(f\"{string} adalah palindrom\")\n",
        "else:\n",
        "    print(f\"{string} bukan palindrom\")"
      ],
      "metadata": {
        "id": "XUYYrLgjz3cr",
        "colab": {
          "base_uri": "https://localhost:8080/"
        },
        "outputId": "ed0dde7c-bcc2-4f70-92b1-51dd59f5d5b8"
      },
      "execution_count": null,
      "outputs": [
        {
          "output_type": "stream",
          "name": "stdout",
          "text": [
            "Masukkan panjang string: 10\n",
            "Masukkan string: kasur rusak\n",
            "kasur rusak adalah palindrom\n"
          ]
        }
      ]
    },
    {
      "cell_type": "markdown",
      "source": [
        "contoh 3"
      ],
      "metadata": {
        "id": "GjhpLoVXheHs"
      }
    },
    {
      "cell_type": "code",
      "source": [
        "# Meminta input panjang string dan string itu sendiri\n",
        "n = int(input(\"Masukkan panjang string: \"))\n",
        "string = input(\"Masukkan string: \")\n",
        "\n",
        "# Memeriksa apakah string sama dengan versi terbaliknya\n",
        "if string == string[::-1]:\n",
        "    print(f\"{string} adalah palindrom\")\n",
        "else:\n",
        "    print(f\"{string} bukan palindrom\")"
      ],
      "metadata": {
        "id": "A2SQYodzz4J9",
        "colab": {
          "base_uri": "https://localhost:8080/"
        },
        "outputId": "731b17b6-bcc0-4de2-8c5b-76748bef1a68"
      },
      "execution_count": null,
      "outputs": [
        {
          "output_type": "stream",
          "name": "stdout",
          "text": [
            "Masukkan panjang string: 3\n",
            "Masukkan string: apa\n",
            "apa adalah palindrom\n"
          ]
        }
      ]
    },
    {
      "cell_type": "markdown",
      "source": [
        "- Interpretasi coding :\n",
        "1. Input Data:\n",
        "•\tProgram meminta panjang string (untuk informasi saja) dan string itu sendiri, lalu menyimpan string dalam variabel string.\n",
        "\n",
        "2.\tPemeriksaan Palindrom:\n",
        "- Program membandingkan string dengan versi terbaliknya string[::-1].\n",
        "- Jika keduanya sama, program mencetak bahwa string adalah palindrom;\n",
        "- jika berbeda, program mencetak bahwa string bukan palindrom.\n",
        "\n",
        "- Interpretasi Hasil\n",
        "\n",
        "Contoh Penggunaan: Jika input adalah “kasurrusak”, program akan mendeteksi “kasurrusak” sama dengan versi terbaliknya, sehingga mencetak bahwa itu adalah palindrom."
      ],
      "metadata": {
        "id": "Z9VaLRE4DCCD"
      }
    },
    {
      "cell_type": "markdown",
      "source": [
        "#🏆 POST TEST 🎯"
      ],
      "metadata": {
        "id": "J_75vTSXKFGE"
      }
    },
    {
      "cell_type": "markdown",
      "source": [
        "Problem (1)"
      ],
      "metadata": {
        "id": "twhHfrqiKSfV"
      }
    },
    {
      "cell_type": "markdown",
      "source": [
        "- Interpretasi coding:\n",
        "- Interpretasi hasil:"
      ],
      "metadata": {
        "id": "t9x---59KWVI"
      }
    },
    {
      "cell_type": "markdown",
      "source": [
        "📌Catatan:\n",
        "  - Notebook python ini dibuat untuk memudahkan temen-temen belajar ngoding dan pengumpulan tugas.\n",
        "  - Silakan download notebook ini lalu upload di Google Collab milik kalian agar format `pertemuan`, `topik pertemuan`,\n",
        "`tanggal`, `deskripsi pembahasan materi`, `baris coding` dan `interpretasi` bisa disesuaikan dengan kebutuhan teman-teman.\n",
        "\n",
        "  - Interpretasi coding dan hasil dimaksudkan agar teman-teman semakin memahami apa yang dipelajari.\n",
        "\n",
        "  - Deskripsi pembahasan materi dimaksudkan agar teman-teman semakin memahami apa fokus yang dipelajari.\n",
        "\n",
        "  - Tulisan di setiap sebelum baris code disebut `markdown`. Ada beberapa jenis simbol yang memudahkan kepenulisan `markdown` kita, yaitu seperti : untuk mengatur ukuran tulisan biasanya tulisan pada header menggunakan ini`#`, `##`, `###`, untuk membuat pointer menggunakan ini `-`, untuk membuat tulisan ter-highlight menggunakan ini *` `* , untuk short-cut membuat tulisan jadi **bold** gunakan ini `** **`, dan untuk *tulisan miring* gunakan ini `* *` .\n",
        "\n",
        "  - Semangat belajar! 🌟✨\n",
        "\n",
        "©️ LABORATORIUM SAINS DATA 2024"
      ],
      "metadata": {
        "id": "D-tRQnbQK69l"
      }
    }
  ]
}